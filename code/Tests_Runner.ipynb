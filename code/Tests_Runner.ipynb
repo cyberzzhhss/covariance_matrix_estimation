{
 "cells": [
  {
   "cell_type": "code",
   "execution_count": 1,
   "id": "5bf140fc",
   "metadata": {},
   "outputs": [
    {
     "name": "stdout",
     "output_type": "stream",
     "text": [
      ".\n",
      "----------------------------------------------------------------------\n",
      "Ran 1 test in 1.743s\n",
      "\n",
      "OK\n",
      ".\n",
      "----------------------------------------------------------------------\n",
      "Ran 1 test in 17.898s\n",
      "\n",
      "OK\n",
      "done with 20070620\n",
      ".\n",
      "----------------------------------------------------------------------\n",
      "Ran 1 test in 33.203s\n",
      "\n",
      "OK\n"
     ]
    }
   ],
   "source": [
    "!python3 Test_RiskAnalysis.py\n",
    "# this one is time consuming because it processes the raw kaggle csv data\n",
    "!python3 Test_KaggleDataETL.py \n",
    "# this one is time consuming because it processes part of the raw data\n",
    "!python3 Test_PrepareReturnsMatrix.py "
   ]
  },
  {
   "cell_type": "code",
   "execution_count": null,
   "id": "77e49ef2",
   "metadata": {},
   "outputs": [],
   "source": []
  }
 ],
 "metadata": {
  "kernelspec": {
   "display_name": "Python 3",
   "language": "python",
   "name": "python3"
  },
  "language_info": {
   "codemirror_mode": {
    "name": "ipython",
    "version": 3
   },
   "file_extension": ".py",
   "mimetype": "text/x-python",
   "name": "python",
   "nbconvert_exporter": "python",
   "pygments_lexer": "ipython3",
   "version": "3.8.8"
  }
 },
 "nbformat": 4,
 "nbformat_minor": 5
}
